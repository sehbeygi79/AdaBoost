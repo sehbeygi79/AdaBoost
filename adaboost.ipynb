{
 "cells": [
  {
   "cell_type": "code",
   "execution_count": 1,
   "metadata": {},
   "outputs": [],
   "source": [
    "import numpy as np\n",
    "import sklearn.metrics"
   ]
  },
  {
   "cell_type": "code",
   "execution_count": 2,
   "metadata": {},
   "outputs": [],
   "source": [
    "def get_metrics(y_true, y_hat):\n",
    "    acc = sklearn.metrics.accuracy_score(y_true, y_hat)\n",
    "    balanced_acc = sklearn.metrics.balanced_accuracy_score(y_true, y_hat)\n",
    "    return acc, balanced_acc  "
   ]
  },
  {
   "cell_type": "code",
   "execution_count": 3,
   "metadata": {},
   "outputs": [],
   "source": [
    "class DecisionStump:\n",
    "    def __init__(self, steps=400):\n",
    "        self.features = None\n",
    "        self.bestn = None\n",
    "        self.bestd = None\n",
    "        self.bestp = None\n",
    "        self.steps = steps\n",
    "\n",
    "    def train(self, X, y, W):\n",
    "        \"\"\"\n",
    "        Parameters\n",
    "        ----------\n",
    "        X_ : np.array of shape = [n_samples, n_features]\n",
    "            The inputs of the training samples.\n",
    "        y_ : np.array of shape = [n_samples]\n",
    "            The class labels of the training samples.\n",
    "            Currently only supports class -1 and 1.\n",
    "        W_ : np.array of shape = [n_samples]\n",
    "            The weights of each samples.\n",
    "        \"\"\"\n",
    "\n",
    "        X = np.array(X)\n",
    "        y = np.array(y)\n",
    "        W = np.array(W)\n",
    "\n",
    "        n_samples, n_features = X.shape\n",
    "        assert n_samples == y.size\n",
    "\n",
    "        bestn = 0\n",
    "        bestd = 1\n",
    "        bestp = 0\n",
    "        # minerr = W.sum()\n",
    "        minerr = 2\n",
    "        # print('minerr', minerr)\n",
    "        for n in range(n_features):\n",
    "            err, d, p = self._optimize(X[:, n], y, W, self.steps)\n",
    "            if err < minerr:\n",
    "                minerr = err\n",
    "                bestn = n\n",
    "                bestd = d\n",
    "                bestp = p\n",
    "\n",
    "        self.features = n_features\n",
    "        self.bestn = bestn\n",
    "        self.bestd = bestd\n",
    "        self.bestp = bestp\n",
    "\n",
    "        return minerr\n",
    "\n",
    "    def _optimize(self, x, y, W, steps):\n",
    "        \"\"\"Get optimal direction and position to divided X.\n",
    "\n",
    "        Parameters\n",
    "        ----------\n",
    "        x : np.array of shape = [n_samples]\n",
    "            The inputs of a certain feature of the training samples.\n",
    "        y : np.array of shape = [n_samples]\n",
    "            The class labels of the training samples.\n",
    "        W : np.array of shape = [n_samples]\n",
    "            The weights of each samples.\n",
    "        steps : int\n",
    "            Count of training iterations.\n",
    "        \"\"\"\n",
    "\n",
    "        min_x, max_x = x.min(), x.max()\n",
    "        len_x = max_x - min_x\n",
    "\n",
    "        bestd = 1\n",
    "        bestp = min_x\n",
    "        # minerr = W.sum()\n",
    "        minerr = 2\n",
    "\n",
    "        if len_x > 0.0:\n",
    "            for p in np.arange(min_x, max_x, len_x / steps):\n",
    "                for d in [-1, 1]:\n",
    "                    gy = np.ones((y.size)).reshape(-1,1)\n",
    "                    gy[x * d < p * d] = -1\n",
    "                    err = np.sum((gy != y) * W)\n",
    "                    if err < minerr:\n",
    "                        minerr = err\n",
    "                        bestd = d\n",
    "                        bestp = p\n",
    "\n",
    "        return minerr, bestd, bestp\n",
    "\n",
    "    def predict(self, X_test):\n",
    "        \"\"\"Predict the classes of input samples\n",
    "\n",
    "        Parameters\n",
    "        ----------\n",
    "        test_set_ : array-like of shape = [n_samples, n_features]\n",
    "            The inputs of the testing samples.\n",
    "        \"\"\"\n",
    "\n",
    "        X_test = np.array(X_test)\n",
    "        n_samples, n_features = X_test.shape\n",
    "\n",
    "        assert n_features == self.features\n",
    "\n",
    "        single_feature = X_test[:, self.bestn]\n",
    "        h = np.ones((n_samples))\n",
    "        h[single_feature * self.bestd < self.bestp * self.bestd] = -1\n",
    "        return h"
   ]
  },
  {
   "cell_type": "code",
   "execution_count": 4,
   "metadata": {},
   "outputs": [],
   "source": [
    "train_data = np.genfromtxt(\"datasets/Syndata-train.csv\", delimiter=\",\")[1:]\n",
    "X_train = train_data[:, :2]\n",
    "y_train = train_data[:, 2:]\n",
    "\n",
    "test_data = np.genfromtxt(\"datasets/Syndata-test.csv\", delimiter=\",\")[1:]\n",
    "X_test = test_data[:, :2]\n",
    "y_test = test_data[:, 2:]"
   ]
  },
  {
   "cell_type": "code",
   "execution_count": 5,
   "metadata": {},
   "outputs": [
    {
     "name": "stdout",
     "output_type": "stream",
     "text": [
      "train error = 0.36375\n",
      "test acc = 0.63\n"
     ]
    }
   ],
   "source": [
    "# sample distribution in the algorithm is initialized by 1/N\n",
    "sample_dist = np.ones((X_train.shape[0])).reshape(-1,1) / X_train.shape[0]\n",
    "# print(sample_dist.shape)\n",
    "\n",
    "\n",
    "dt = DecisionStump()\n",
    "train_err = dt.train(X_train, y_train, sample_dist)\n",
    "print(f'train error = {train_err}')\n",
    "\n",
    "y_test_hat = dt.predict(X_test)\n",
    "acc, _ = get_metrics(y_test, y_test_hat)\n",
    "print(f'test acc = {acc}')"
   ]
  },
  {
   "cell_type": "code",
   "execution_count": null,
   "metadata": {},
   "outputs": [],
   "source": []
  }
 ],
 "metadata": {
  "kernelspec": {
   "display_name": "Python 3 (ipykernel)",
   "language": "python",
   "name": "python3"
  },
  "language_info": {
   "codemirror_mode": {
    "name": "ipython",
    "version": 3
   },
   "file_extension": ".py",
   "mimetype": "text/x-python",
   "name": "python",
   "nbconvert_exporter": "python",
   "pygments_lexer": "ipython3",
   "version": "3.8.10"
  }
 },
 "nbformat": 4,
 "nbformat_minor": 2
}
