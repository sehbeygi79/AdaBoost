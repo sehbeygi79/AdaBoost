{
 "cells": [
  {
   "cell_type": "code",
   "execution_count": 1,
   "metadata": {},
   "outputs": [],
   "source": [
    "import numpy as np\n",
    "import sklearn.metrics"
   ]
  },
  {
   "cell_type": "code",
   "execution_count": 2,
   "metadata": {},
   "outputs": [],
   "source": [
    "def get_metrics(y_true, y_hat):\n",
    "    acc = sklearn.metrics.accuracy_score(y_true, y_hat)\n",
    "    balanced_acc = sklearn.metrics.balanced_accuracy_score(y_true, y_hat)\n",
    "    return acc, balanced_acc  "
   ]
  },
  {
   "cell_type": "code",
   "execution_count": 3,
   "metadata": {},
   "outputs": [],
   "source": [
    "class DecisionStump:\n",
    "    def __init__(self, granularity=100):\n",
    "        self.best_feature = None\n",
    "        self.best_direction = None\n",
    "        self.best_position = None\n",
    "        self.granularity = granularity\n",
    "\n",
    "    def train(self, X, y, dist):\n",
    "        \"\"\"\n",
    "        X: n✕d training inputs\n",
    "        y: n✕1 labels with values 1 or -1\n",
    "        dist: n✕1 distribution of samples\n",
    "        \"\"\"\n",
    "\n",
    "        X = np.asarray(X)\n",
    "        y = np.asarray(y)\n",
    "        dist = np.asarray(dist)\n",
    "\n",
    "        # maximum value for error is 1\n",
    "        min_err = 1\n",
    "        for feature in range(X.shape[1]):\n",
    "            err, direction, position = self.__find_best_separator(\n",
    "                X[:, feature], y, dist\n",
    "            )\n",
    "            if err < min_err:\n",
    "                min_err = err\n",
    "                self.best_feature = feature\n",
    "                self.best_direction = direction\n",
    "                self.best_position = position\n",
    "\n",
    "        return min_err\n",
    "\n",
    "    # for a given feature, finds the best separator\n",
    "    def __find_best_separator(self, x, y, dist):\n",
    "        \"\"\"\n",
    "        x: n✕1 one feature of inputs\n",
    "        y: n✕1 labels with values 1 or -1\n",
    "        dist: n✕1 distribution of samples\n",
    "        \"\"\"\n",
    "\n",
    "        best_dir = 1\n",
    "        best_pos = x.min()\n",
    "\n",
    "        # maximum value for error is 1\n",
    "        min_err = 1\n",
    "        for p in np.arange(x.min(), x.max(), (x.max() - x.min()) / self.granularity):\n",
    "            for d in (-1, 1):\n",
    "                y_hat = np.ones((y.size)).reshape(-1, 1)\n",
    "                if d == 1:\n",
    "                    y_hat[x < p] = -1\n",
    "                else:\n",
    "                    y_hat[x > p] = -1\n",
    "\n",
    "                err = np.sum((y_hat != y) * dist)\n",
    "                if err < min_err:\n",
    "                    min_err = err\n",
    "                    best_dir = d\n",
    "                    best_pos = p\n",
    "\n",
    "        return min_err, best_dir, best_pos\n",
    "\n",
    "    def predict(self, X_test):\n",
    "        \"\"\"\n",
    "        X_test: n✕d test inputs\n",
    "        \"\"\"\n",
    "\n",
    "        X_test = np.array(X_test)\n",
    "\n",
    "        y_hat = np.ones((X_test.shape[0]))\n",
    "        if self.best_direction == 1:\n",
    "            y_hat[X_test[:, self.best_feature] < self.best_position] = -1\n",
    "        else:\n",
    "            y_hat[X_test[:, self.best_feature] > self.best_position] = -1\n",
    "\n",
    "        return y_hat"
   ]
  },
  {
   "cell_type": "code",
   "execution_count": 4,
   "metadata": {},
   "outputs": [],
   "source": [
    "train_data = np.genfromtxt(\"datasets/Syndata-train.csv\", delimiter=\",\")[1:]\n",
    "X_train = train_data[:, :2]\n",
    "y_train = train_data[:, 2:]\n",
    "\n",
    "test_data = np.genfromtxt(\"datasets/Syndata-test.csv\", delimiter=\",\")[1:]\n",
    "X_test = test_data[:, :2]\n",
    "y_test = test_data[:, 2:]"
   ]
  },
  {
   "cell_type": "code",
   "execution_count": 5,
   "metadata": {},
   "outputs": [
    {
     "name": "stdout",
     "output_type": "stream",
     "text": [
      "train error = 0.36625\n",
      "test acc = 0.62\n"
     ]
    }
   ],
   "source": [
    "# sample distribution in the algorithm is initialized by 1/N\n",
    "sample_dist = np.ones((X_train.shape[0])).reshape(-1,1) / X_train.shape[0]\n",
    "# print(sample_dist.shape)\n",
    "\n",
    "\n",
    "dt = DecisionStump()\n",
    "train_err = dt.train(X_train, y_train, sample_dist)\n",
    "print(f'train error = {train_err}')\n",
    "\n",
    "y_test_hat = dt.predict(X_test)\n",
    "acc, _ = get_metrics(y_test, y_test_hat)\n",
    "print(f'test acc = {acc}')"
   ]
  },
  {
   "cell_type": "code",
   "execution_count": null,
   "metadata": {},
   "outputs": [],
   "source": []
  }
 ],
 "metadata": {
  "kernelspec": {
   "display_name": "Python 3 (ipykernel)",
   "language": "python",
   "name": "python3"
  },
  "language_info": {
   "codemirror_mode": {
    "name": "ipython",
    "version": 3
   },
   "file_extension": ".py",
   "mimetype": "text/x-python",
   "name": "python",
   "nbconvert_exporter": "python",
   "pygments_lexer": "ipython3",
   "version": "3.8.10"
  }
 },
 "nbformat": 4,
 "nbformat_minor": 2
}
