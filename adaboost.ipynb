{
 "cells": [
  {
   "cell_type": "code",
   "execution_count": 1,
   "metadata": {},
   "outputs": [],
   "source": [
    "import numpy as np\n",
    "import sklearn.metrics"
   ]
  },
  {
   "cell_type": "code",
   "execution_count": 2,
   "metadata": {},
   "outputs": [],
   "source": [
    "def get_metrics(y_true, y_hat):\n",
    "    acc = sklearn.metrics.accuracy_score(y_true, y_hat)\n",
    "    balanced_acc = sklearn.metrics.balanced_accuracy_score(y_true, y_hat)\n",
    "    return acc, balanced_acc  "
   ]
  },
  {
   "cell_type": "code",
   "execution_count": 3,
   "metadata": {},
   "outputs": [],
   "source": [
    "class DecisionStump:\n",
    "    def __init__(self, granularity=10):\n",
    "        self.best_feature = None\n",
    "        self.best_direction = None\n",
    "        self.best_position = None\n",
    "        self.granularity = granularity\n",
    "\n",
    "    def train(self, X, y, dist_t):\n",
    "        \"\"\"\n",
    "        arguments:\n",
    "        X: n✕d training inputs\n",
    "        y: n✕1 labels with values 1 or -1\n",
    "        dist_t: n✕1 distribution of samples\n",
    "        ------------------------------------------\n",
    "        output:\n",
    "        e_t: 0/1 loss of h_t which has to be less than 0.5\n",
    "        \"\"\"\n",
    "\n",
    "        X = np.asarray(X)\n",
    "        y = np.asarray(y)\n",
    "        dist_t = np.asarray(dist_t)\n",
    "\n",
    "        # maximum value for error is 1\n",
    "        e_t = 1\n",
    "        for feature in range(X.shape[1]):\n",
    "            err, direction, position = self.__find_best_separator(\n",
    "                X[:, feature], y, dist_t\n",
    "            )\n",
    "            if err < e_t:\n",
    "                e_t = err\n",
    "                self.best_feature = feature\n",
    "                self.best_direction = direction\n",
    "                self.best_position = position\n",
    "\n",
    "        return e_t\n",
    "\n",
    "    # for a given feature, finds the best separator\n",
    "    def __find_best_separator(self, x, y, dist_t):\n",
    "        \"\"\"\n",
    "        x: n✕1 one feature of inputs\n",
    "        y: n✕1 labels with values 1 or -1\n",
    "        dist_t: n✕1 distribution of samples\n",
    "        ------------------------------------------\n",
    "        output:\n",
    "        e_t: 0/1 loss of h_t which has to be less than 0.5\n",
    "        best_dir: defines which side of the separator gets +1 label\n",
    "        best_pos: defines the value of the feature used to separate the data\n",
    "        \"\"\"\n",
    "\n",
    "        best_dir = 1\n",
    "        best_pos = x.min()\n",
    "\n",
    "        # maximum value for error is 1\n",
    "        e_t = 1\n",
    "        for p in np.arange(x.min(), x.max(), (x.max() - x.min()) / self.granularity):\n",
    "            for d in (-1, 1):\n",
    "                y_hat = np.ones((y.size)).reshape(-1, 1)\n",
    "                if d == 1:\n",
    "                    y_hat[x < p] = -1\n",
    "                else:\n",
    "                    y_hat[x > p] = -1\n",
    "\n",
    "                err = np.sum((y_hat != y) * dist_t)\n",
    "                if err < e_t:\n",
    "                    e_t = err\n",
    "                    best_dir = d\n",
    "                    best_pos = p\n",
    "\n",
    "        return e_t, best_dir, best_pos\n",
    "\n",
    "    def predict(self, X_test):\n",
    "        \"\"\"\n",
    "        X_test: n✕d test inputs\n",
    "        ------------------------------------------\n",
    "        output:\n",
    "        y_hat: n✕1 predicted labels with values 1 or -1\n",
    "        \"\"\"\n",
    "\n",
    "        X_test = np.asarray(X_test)\n",
    "        if X_test.ndim == 1:\n",
    "            X_test = X_test[np.newaxis, :]\n",
    "\n",
    "        y_hat = np.ones((X_test.shape[0]))\n",
    "        if self.best_direction == 1:\n",
    "            y_hat[X_test[:, self.best_feature] < self.best_position] = -1\n",
    "        else:\n",
    "            y_hat[X_test[:, self.best_feature] > self.best_position] = -1\n",
    "\n",
    "        return y_hat"
   ]
  },
  {
   "cell_type": "code",
   "execution_count": 4,
   "metadata": {},
   "outputs": [],
   "source": [
    "train_data = np.genfromtxt(\"datasets/Syndata-train.csv\", delimiter=\",\")[1:]\n",
    "X_train = train_data[:, :2]\n",
    "y_train = train_data[:, 2:]\n",
    "\n",
    "test_data = np.genfromtxt(\"datasets/Syndata-test.csv\", delimiter=\",\")[1:]\n",
    "X_test = test_data[:, :2]\n",
    "y_test = test_data[:, 2:]"
   ]
  },
  {
   "cell_type": "code",
   "execution_count": 5,
   "metadata": {},
   "outputs": [],
   "source": [
    "# # sample distribution in the algorithm is initialized by 1/N\n",
    "# sample_dist = np.ones((X_train.shape[0])).reshape(-1,1) / X_train.shape[0]\n",
    "\n",
    "\n",
    "# dt = DecisionStump()\n",
    "# train_err = dt.train(X_train, y_train, sample_dist)\n",
    "# print(f'train error = {train_err}')\n",
    "\n",
    "# y_test_hat = dt.predict(X_test)\n",
    "# acc, _ = get_metrics(y_test, y_test_hat)\n",
    "# print(f'test acc = {acc}')"
   ]
  },
  {
   "cell_type": "code",
   "execution_count": 6,
   "metadata": {},
   "outputs": [],
   "source": [
    "class AdaBoost:\n",
    "    def __init__(self, num_iter):\n",
    "        self.num_iter = num_iter\n",
    "        self.h = None\n",
    "        self.alpha = None\n",
    "\n",
    "    def __get_new_dist(self, wl, X, y, alpha_t, old_dist):\n",
    "        new_dist = []\n",
    "        for i in range(X.shape[0]):\n",
    "            numerator = old_dist[i] * np.exp(-alpha_t * y[i] * wl.predict(X[i]))\n",
    "            denominator = 0\n",
    "            for j in range(X.shape[0]):\n",
    "                denominator += old_dist[j] * np.exp(-alpha_t * y[j] * wl.predict(X[j]))\n",
    "\n",
    "            new_dist.append(numerator / denominator)\n",
    "\n",
    "        return np.asarray(new_dist).reshape(-1, 1)\n",
    "\n",
    "    def train(self, X, y):\n",
    "        X = np.asarray(X)\n",
    "        y = np.asarray(y)\n",
    "\n",
    "        # sample distribution is initialized by 1/N\n",
    "        sample_dist = np.ones((X.shape[0])).reshape(-1, 1) / X.shape[0]\n",
    "        alpha = [None for _ in range(self.num_iter)]\n",
    "        wl_list = [None for _ in range(self.num_iter)]\n",
    "        for t in range(self.num_iter):\n",
    "            print(f'------------------ t = {t} ------------------')\n",
    "            wl = DecisionStump()\n",
    "            e = wl.train(X, y, sample_dist)\n",
    "            alpha[t] = (1 / 2) * np.log((1 / e) - 1)\n",
    "            sample_dist = self.__get_new_dist(wl, X, y, alpha[t], sample_dist)\n",
    "\n",
    "            wl_list[t] = wl\n",
    "\n",
    "        self.h = wl_list\n",
    "        self.alpha = alpha\n",
    "    \n",
    "    def predict(self, X_test):\n",
    "        X_test = np.asarray(X_test)\n",
    "        y_hat = 0\n",
    "        for t in range(self.num_iter):\n",
    "            y_hat += self.alpha[t] * self.h[t].predict(X_test)\n",
    "\n",
    "        return np.sign(y_hat)\n"
   ]
  },
  {
   "cell_type": "code",
   "execution_count": 7,
   "metadata": {},
   "outputs": [
    {
     "name": "stdout",
     "output_type": "stream",
     "text": [
      "------------------ t = 0 ------------------\n",
      "------------------ t = 1 ------------------\n",
      "------------------ t = 2 ------------------\n",
      "------------------ t = 3 ------------------\n",
      "------------------ t = 4 ------------------\n",
      "------------------ t = 5 ------------------\n",
      "------------------ t = 6 ------------------\n",
      "------------------ t = 7 ------------------\n",
      "------------------ t = 8 ------------------\n",
      "------------------ t = 9 ------------------\n"
     ]
    }
   ],
   "source": [
    "adaboost = AdaBoost(num_iter=10)\n",
    "adaboost.train(X_train, y_train)\n"
   ]
  },
  {
   "cell_type": "code",
   "execution_count": 8,
   "metadata": {},
   "outputs": [
    {
     "name": "stdout",
     "output_type": "stream",
     "text": [
      "test acc = 0.84\n"
     ]
    }
   ],
   "source": [
    "y_test_hat = adaboost.predict(X_test)\n",
    "acc, _ = get_metrics(y_test, y_test_hat)\n",
    "print(f'test acc = {acc}')"
   ]
  }
 ],
 "metadata": {
  "kernelspec": {
   "display_name": "Python 3 (ipykernel)",
   "language": "python",
   "name": "python3"
  },
  "language_info": {
   "codemirror_mode": {
    "name": "ipython",
    "version": 3
   },
   "file_extension": ".py",
   "mimetype": "text/x-python",
   "name": "python",
   "nbconvert_exporter": "python",
   "pygments_lexer": "ipython3",
   "version": "3.8.10"
  }
 },
 "nbformat": 4,
 "nbformat_minor": 2
}
